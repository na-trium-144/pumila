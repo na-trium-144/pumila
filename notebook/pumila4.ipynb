{
 "cells": [
  {
   "cell_type": "code",
   "execution_count": null,
   "id": "017182b3-37f8-4d7d-b32a-dcd00dee6836",
   "metadata": {},
   "outputs": [],
   "source": [
    "import sys\n",
    "import os\n",
    "build_path = os.path.join(os.getcwd(), \"..\", \"build\")\n",
    "!cmake -B {build_path} -DPYTHON_EXECUTABLE={sys.executable} -Wno-dev ..\n",
    "!cmake --build {build_path}\n",
    "if build_path not in sys.path:\n",
    "    sys.path.append(build_path)\n",
    "import pypumila\n",
    "# to reload pypumila, restart python kernel.\n",
    "# importlib.reload(pypumila) <- does not work"
   ]
  },
  {
   "cell_type": "code",
   "execution_count": null,
   "id": "ed243954-8b00-4dea-ae36-5a25ac603487",
   "metadata": {},
   "outputs": [],
   "source": [
    "os.chdir(build_path)\n",
    "sim = pypumila.GameSim()"
   ]
  },
  {
   "cell_type": "code",
   "execution_count": null,
   "id": "7225fffd-c98f-4be0-b881-80544b896f97",
   "metadata": {},
   "outputs": [],
   "source": [
    "import numpy as np"
   ]
  },
  {
   "cell_type": "code",
   "execution_count": null,
   "id": "f2660f55-78ad-4b2e-b2f4-33d0ecb88038",
   "metadata": {},
   "outputs": [],
   "source": [
    "from tqdm.notebook import tqdm"
   ]
  },
  {
   "cell_type": "code",
   "execution_count": null,
   "id": "36103c40-7d4a-4870-8852-7e54f0e20eac",
   "metadata": {},
   "outputs": [],
   "source": [
    "import random"
   ]
  },
  {
   "cell_type": "code",
   "execution_count": null,
   "id": "7d8aa703-9cdd-4dfb-a1af-cb9e40bb8279",
   "metadata": {},
   "outputs": [],
   "source": [
    "model = pypumila.Pumila4.make_shared(0.01)\n",
    "model_first = model.copy()\n",
    "rewards = []\n",
    "diffs = []\n",
    "scores = []\n",
    "it = 10000\n",
    "with tqdm(total=it) as pbar:\n",
    "    while pbar.n < it:\n",
    "        sim = pypumila.GameSim()\n",
    "        rnd_p = random.random()\n",
    "        # print(rnd_p)\n",
    "        for e in range(50):\n",
    "            pbar.update()\n",
    "            a = model.get_action_rnd(sim.field, rnd_p)\n",
    "            model.learn_step(sim.field)\n",
    "            # diff = model.mean_diff\n",
    "            sim.put(pypumila.actions[a])\n",
    "            while not sim.is_free_phase():\n",
    "                sim.step()\n",
    "            reward = pypumila.Pumila2.calc_reward(sim.field)\n",
    "            rewards.append(reward)\n",
    "            # diffs.append(diff)\n",
    "            # このdiffはだいぶ前の学習結果で使ったdiffなので参考にならない\n",
    "            #print(f\"a = {a}, reward = {reward}, chain = {sim.field.prev_chain_num}, diff = {diff}\")\n",
    "        # print(\"reset sim\")\n",
    "        scores.append(sim.field.total_score)"
   ]
  },
  {
   "cell_type": "code",
   "execution_count": null,
   "id": "c2de2e2b-2a64-4639-bc04-c314e7535b62",
   "metadata": {},
   "outputs": [],
   "source": [
    "model.save_file()"
   ]
  },
  {
   "cell_type": "code",
   "execution_count": null,
   "id": "987640c5-f8bd-45b1-8fc4-da213537e578",
   "metadata": {},
   "outputs": [],
   "source": [
    "import matplotlib.pyplot as plt"
   ]
  },
  {
   "cell_type": "code",
   "execution_count": null,
   "id": "5b47d9d7-e1da-4e90-ab95-0a075279d27e",
   "metadata": {},
   "outputs": [],
   "source": [
    "plt.plot(rewards)"
   ]
  },
  {
   "cell_type": "code",
   "execution_count": null,
   "id": "2d7689dd-34a4-4c04-9665-d7aff042639f",
   "metadata": {},
   "outputs": [],
   "source": [
    "ar = np.array(rewards)\n",
    "plt.plot([np.average(ar[i:i+100]) for i in range(len(rewards)-100)])"
   ]
  },
  {
   "cell_type": "code",
   "execution_count": null,
   "id": "9ec05a85-05df-44ea-9793-62d2a799aa68",
   "metadata": {},
   "outputs": [],
   "source": [
    "plt.plot(diffs)"
   ]
  },
  {
   "cell_type": "code",
   "execution_count": null,
   "id": "536851f0-c5b7-4be4-b268-3c1454f7d228",
   "metadata": {},
   "outputs": [],
   "source": [
    "plt.plot(scores)"
   ]
  },
  {
   "cell_type": "code",
   "execution_count": null,
   "id": "59313db9-6f5f-4eab-b2c7-7cd69275e556",
   "metadata": {},
   "outputs": [],
   "source": [
    "model = pypumila.Pumila4.make_shared(0.01)\n",
    "model.load_file()"
   ]
  },
  {
   "cell_type": "code",
   "execution_count": null,
   "id": "e7cac282-6462-4a95-9a08-d1ec2e57a227",
   "metadata": {},
   "outputs": [],
   "source": [
    "sim = pypumila.GameSim()\n",
    "win = pypumila.Window(sim)\n",
    "win.step(False, False)"
   ]
  },
  {
   "cell_type": "code",
   "execution_count": null,
   "id": "325d6532-0639-45ff-b273-641aae2aa901",
   "metadata": {},
   "outputs": [],
   "source": [
    "while True:\n",
    "    # print(model.main.forward(model.get_in_nodes(sim.field).in_nodes).q)\n",
    "    a = model.get_action(sim)\n",
    "    sim.put(pypumila.actions[a])\n",
    "    while not sim.is_free_phase():\n",
    "        win.step(True, False)\n",
    "    for i in range(15):\n",
    "        win.step(True, False)"
   ]
  },
  {
   "cell_type": "code",
   "execution_count": null,
   "id": "b7b760ef-998e-41a1-8d68-745553e0ebfe",
   "metadata": {},
   "outputs": [],
   "source": [
    "win.quit()"
   ]
  },
  {
   "cell_type": "code",
   "execution_count": null,
   "id": "14824c7e-656a-4d8b-804a-f490830e5fe3",
   "metadata": {},
   "outputs": [],
   "source": []
  }
 ],
 "metadata": {
  "kernelspec": {
   "display_name": "Python 3 (ipykernel)",
   "language": "python",
   "name": "python3"
  },
  "language_info": {
   "codemirror_mode": {
    "name": "ipython",
    "version": 3
   },
   "file_extension": ".py",
   "mimetype": "text/x-python",
   "name": "python",
   "nbconvert_exporter": "python",
   "pygments_lexer": "ipython3",
   "version": "3.10.12"
  }
 },
 "nbformat": 4,
 "nbformat_minor": 5
}
