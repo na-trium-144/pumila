{
 "cells": [
  {
   "cell_type": "code",
   "execution_count": 1,
   "id": "017182b3-37f8-4d7d-b32a-dcd00dee6836",
   "metadata": {},
   "outputs": [
    {
     "name": "stdout",
     "output_type": "stream",
     "text": [
      "-- Eigen3 found\n",
      "-- SDL2 and SDL2TTF found\n",
      "-- Fetching pybind11 source...\n",
      "-- pybind11 v2.11.1 \n",
      "-- Fetching BS::thread_pool source...\n",
      "-- Fetching roboto font...\n",
      "-- Configuring done (1.4s)\n",
      "-- Generating done (0.0s)\n",
      "-- Build files have been written to: /Users/kou/projects/pumila/build\n",
      "[  9%] \u001b[32mBuilding CXX object CMakeFiles/pumila.dir/src/pumila/window.cc.o\u001b[0m\n",
      "[ 18%] \u001b[32mBuilding CXX object CMakeFiles/pumila.dir/src/pumila/game.cc.o\u001b[0m\n",
      "[ 27%] \u001b[32mBuilding CXX object CMakeFiles/pumila.dir/src/pumila/models/pumila1.cc.o\u001b[0m\n",
      "[ 36%] \u001b[32m\u001b[1mLinking CXX shared library libpumila.dylib\u001b[0m\n",
      "ld: warning: ignoring duplicate libraries: '-lSDL2', '-lSDL2_ttf'\n",
      "[ 63%] Built target pumila\n",
      "[ 72%] \u001b[32mBuilding CXX object CMakeFiles/pypumila.dir/src/pypumila/pypumila.cc.o\u001b[0m\n",
      "[ 81%] \u001b[32m\u001b[1mLinking CXX shared module pypumila.cpython-312-darwin.so\u001b[0m\n",
      "[ 81%] Built target pypumila\n",
      "[ 90%] \u001b[32mBuilding CXX object CMakeFiles/pumila-play.dir/src/play/main.cc.o\u001b[0m\n",
      "[100%] \u001b[32m\u001b[1mLinking CXX executable pumila-play\u001b[0m\n",
      "[100%] Built target pumila-play\n"
     ]
    }
   ],
   "source": [
    "import sys\n",
    "import os\n",
    "build_path = os.path.join(os.getcwd(), \"..\", \"build\")\n",
    "!cmake -B {build_path} -DPYTHON_EXECUTABLE={sys.executable} -Wno-dev ..\n",
    "!cmake --build {build_path}\n",
    "if build_path not in sys.path:\n",
    "    sys.path.append(build_path)\n",
    "import pypumila\n",
    "# to reload pypumila, restart python kernel.\n",
    "# importlib.reload(pypumila) <- does not work"
   ]
  },
  {
   "cell_type": "code",
   "execution_count": 2,
   "id": "ed243954-8b00-4dea-ae36-5a25ac603487",
   "metadata": {},
   "outputs": [],
   "source": [
    "os.chdir(build_path)\n",
    "sim = pypumila.GameSim()\n",
    "window = pypumila.Window(sim)"
   ]
  },
  {
   "cell_type": "code",
   "execution_count": 14,
   "id": "7ae6b3b2-6e0a-4307-8cd2-1600cea28b84",
   "metadata": {},
   "outputs": [
    {
     "name": "stdout",
     "output_type": "stream",
     "text": [
      "Puyo.none, Puyo.none, Puyo.none, Puyo.none, Puyo.none, Puyo.none\n",
      "Puyo.none, Puyo.none, Puyo.none, Puyo.none, Puyo.none, Puyo.none\n",
      "Puyo.none, Puyo.none, Puyo.none, Puyo.none, Puyo.none, Puyo.none\n",
      "Puyo.none, Puyo.none, Puyo.none, Puyo.none, Puyo.none, Puyo.none\n",
      "Puyo.none, Puyo.none, Puyo.none, Puyo.none, Puyo.none, Puyo.none\n",
      "Puyo.none, Puyo.none, Puyo.none, Puyo.none, Puyo.none, Puyo.none\n",
      "Puyo.none, Puyo.none, Puyo.none, Puyo.none, Puyo.none, Puyo.none\n",
      "Puyo.none, Puyo.none, Puyo.none, Puyo.none, Puyo.none, Puyo.none\n",
      "Puyo.none, Puyo.none, Puyo.none, Puyo.none, Puyo.none, Puyo.none\n",
      "Puyo.none, Puyo.none, Puyo.none, Puyo.none, Puyo.none, Puyo.none\n",
      "Puyo.none, Puyo.none, Puyo.none, Puyo.none, Puyo.none, Puyo.none\n",
      "Puyo.none, Puyo.none, Puyo.none, Puyo.none, Puyo.none, Puyo.none\n",
      "Puyo.none, Puyo.green, Puyo.green, Puyo.none, Puyo.none, Puyo.none\n",
      "score = 0\n",
      "current = <PuyoPair bottom = 0, top = 0, x = 2, y = 12.000000, rot = 0>\n",
      "next = <PuyoPair bottom = 4, top = 4, x = 2, y = 12.000000, rot = 0>\n",
      "next2 = <PuyoPair bottom = 3, top = 3, x = 2, y = 12.000000, rot = 0>\n"
     ]
    }
   ],
   "source": [
    "def print_sim():\n",
    "    for row in reversed(sim.field.field):\n",
    "        print(\", \".join([str(p) for p in row]))\n",
    "    print(f\"score = {sim.score}\")\n",
    "    print(f\"current = {sim.get_current_pair()}\")\n",
    "    print(f\"next = {sim.next_pair}\")\n",
    "    print(f\"next2 = {sim.next2_pair}\")\n",
    "print_sim()"
   ]
  },
  {
   "cell_type": "code",
   "execution_count": 3,
   "id": "e3829cf1-2eec-4322-ac23-658691e38f09",
   "metadata": {},
   "outputs": [],
   "source": [
    "model = pypumila.Pumila1(0.1, 0.1, 0.1)"
   ]
  },
  {
   "cell_type": "code",
   "execution_count": 4,
   "id": "7225fffd-c98f-4be0-b881-80544b896f97",
   "metadata": {},
   "outputs": [],
   "source": [
    "import numpy as np"
   ]
  },
  {
   "cell_type": "code",
   "execution_count": 20,
   "id": "adcf167e-e7f3-4e2b-9b4c-0a9a766f02f2",
   "metadata": {},
   "outputs": [
    {
     "data": {
      "text/plain": [
       "[-80.30995683077586,\n",
       " -80.7771881453368,\n",
       " -80.95440209906859,\n",
       " -80.2158222304282,\n",
       " -80.12363432697458,\n",
       " -80.44546483920475,\n",
       " -80.07465994723341,\n",
       " -80.63626628008899,\n",
       " -80.24120021387094,\n",
       " -80.56975213214147,\n",
       " -80.30196367425381,\n",
       " -80.00049695738075,\n",
       " -80.50851884055895,\n",
       " -80.48972346775295,\n",
       " -81.16149637433264,\n",
       " -80.51997143368969,\n",
       " -79.89890017231255,\n",
       " -80.36654204987667,\n",
       " -81.24145859152291,\n",
       " -80.36744501772945,\n",
       " -80.46197627177229,\n",
       " -80.62385251962264]"
      ]
     },
     "execution_count": 20,
     "metadata": {},
     "output_type": "execute_result"
    }
   ],
   "source": [
    "q = model.forward(sim)\n",
    "q"
   ]
  },
  {
   "cell_type": "code",
   "execution_count": 21,
   "id": "7a38846b-e546-40ce-8aab-9aa13c4e31ad",
   "metadata": {},
   "outputs": [
    {
     "name": "stdout",
     "output_type": "stream",
     "text": [
      "Puyo.none, Puyo.none, Puyo.none, Puyo.none, Puyo.none, Puyo.none\n",
      "Puyo.none, Puyo.none, Puyo.none, Puyo.none, Puyo.none, Puyo.none\n",
      "Puyo.none, Puyo.none, Puyo.none, Puyo.none, Puyo.none, Puyo.none\n",
      "Puyo.none, Puyo.none, Puyo.none, Puyo.none, Puyo.none, Puyo.none\n",
      "Puyo.none, Puyo.none, Puyo.none, Puyo.none, Puyo.none, Puyo.none\n",
      "Puyo.none, Puyo.none, Puyo.none, Puyo.none, Puyo.none, Puyo.none\n",
      "Puyo.none, Puyo.none, Puyo.none, Puyo.none, Puyo.none, Puyo.none\n",
      "Puyo.none, Puyo.none, Puyo.none, Puyo.none, Puyo.none, Puyo.none\n",
      "Puyo.none, Puyo.none, Puyo.none, Puyo.none, Puyo.none, Puyo.none\n",
      "Puyo.none, Puyo.none, Puyo.none, Puyo.none, Puyo.none, Puyo.none\n",
      "Puyo.none, Puyo.none, Puyo.none, Puyo.none, Puyo.none, Puyo.none\n",
      "Puyo.none, Puyo.none, Puyo.none, Puyo.none, Puyo.none, Puyo.none\n",
      "Puyo.none, Puyo.green, Puyo.green, Puyo.none, Puyo.yellow, Puyo.blue\n",
      "score = 0\n",
      "current = <PuyoPair bottom = 3, top = 3, x = 2, y = 12.000000, rot = 0>\n",
      "next = <PuyoPair bottom = 4, top = 4, x = 2, y = 12.000000, rot = 0>\n",
      "next2 = <PuyoPair bottom = 3, top = 3, x = 2, y = 12.000000, rot = 0>\n"
     ]
    }
   ],
   "source": [
    "a = np.argmax(np.array(q))\n",
    "sim.put(pypumila.actions[a])\n",
    "while not sim.is_free_phase():\n",
    "    sim.step()\n",
    "print_sim()"
   ]
  },
  {
   "cell_type": "code",
   "execution_count": 22,
   "id": "73f29aef-85be-40e2-9e0d-9fdffe9d173f",
   "metadata": {},
   "outputs": [],
   "source": [
    "model.backward(sim, a, -1)"
   ]
  },
  {
   "cell_type": "code",
   "execution_count": 23,
   "id": "bd2391a3-6276-43a0-8ce3-573a92af0191",
   "metadata": {},
   "outputs": [
    {
     "ename": "AttributeError",
     "evalue": "'NoneType' object has no attribute 'chain_num'",
     "output_type": "error",
     "traceback": [
      "\u001b[0;31m---------------------------------------------------------------------------\u001b[0m",
      "\u001b[0;31mAttributeError\u001b[0m                            Traceback (most recent call last)",
      "Cell \u001b[0;32mIn[23], line 1\u001b[0m\n\u001b[0;32m----> 1\u001b[0m \u001b[43msim\u001b[49m\u001b[38;5;241;43m.\u001b[39;49m\u001b[43mcurrent_chain\u001b[49m\u001b[38;5;241;43m.\u001b[39;49m\u001b[43mchain_num\u001b[49m\n",
      "\u001b[0;31mAttributeError\u001b[0m: 'NoneType' object has no attribute 'chain_num'"
     ]
    }
   ],
   "source": [
    "sim.current_chain.chain_num"
   ]
  },
  {
   "cell_type": "code",
   "execution_count": null,
   "id": "7d8aa703-9cdd-4dfb-a1af-cb9e40bb8279",
   "metadata": {
    "scrolled": true
   },
   "outputs": [],
   "source": [
    "# from tqdm.notebook import tqdm\n",
    "model = pypumila.Pumila1(0.001, 0.001, 0.001)\n",
    "sim = pypumila.GameSim()\n",
    "hist = []\n",
    "for e in range(10000):\n",
    "    q = model.forward(sim)\n",
    "    a = np.argmax(np.array(q))\n",
    "    sim.put(pypumila.actions[a])\n",
    "    while not sim.is_free_phase():\n",
    "        sim.step()\n",
    "    # print_sim()\n",
    "    t = -1\n",
    "    if sim.current_chain:\n",
    "        t = sim.current_chain.chain_num * 100\n",
    "    hist.append(t)\n",
    "    model.backward(sim, a, t)"
   ]
  }
 ],
 "metadata": {
  "kernelspec": {
   "display_name": "Python 3 (ipykernel)",
   "language": "python",
   "name": "python3"
  },
  "language_info": {
   "codemirror_mode": {
    "name": "ipython",
    "version": 3
   },
   "file_extension": ".py",
   "mimetype": "text/x-python",
   "name": "python",
   "nbconvert_exporter": "python",
   "pygments_lexer": "ipython3",
   "version": "3.12.1"
  }
 },
 "nbformat": 4,
 "nbformat_minor": 5
}
