{
 "cells": [
  {
   "cell_type": "code",
   "execution_count": 12,
   "id": "017182b3-37f8-4d7d-b32a-dcd00dee6836",
   "metadata": {},
   "outputs": [
    {
     "name": "stdout",
     "output_type": "stream",
     "text": [
      "-- Eigen3 found\n",
      "-- SDL2 and SDL2TTF found\n",
      "-- Fetching pybind11 source...\n",
      "-- pybind11 v2.11.1 \n",
      "-- Fetching roboto font...\n",
      "-- Configuring done (1.3s)\n",
      "-- Generating done (0.0s)\n",
      "-- Build files have been written to: /Users/kou/projects/pumila/build\n",
      "[ 60%] Built target pumila\n",
      "[ 80%] Built target pypumila\n",
      "[100%] Built target pumila-play\n"
     ]
    }
   ],
   "source": [
    "import sys\n",
    "import os\n",
    "build_path = os.path.join(os.getcwd(), \"..\", \"build\")\n",
    "!cmake -B {build_path} -DPYTHON_EXECUTABLE={sys.executable} -Wno-dev ..\n",
    "!cmake --build {build_path}\n",
    "if build_path not in sys.path:\n",
    "    sys.path.append(build_path)"
   ]
  },
  {
   "cell_type": "code",
   "execution_count": 13,
   "id": "8fe686ce-39be-4762-a853-26abb4629669",
   "metadata": {},
   "outputs": [
    {
     "data": {
      "text/plain": [
       "<module 'pypumila' from '/Users/kou/projects/pumila/notebook/../build/pypumila.cpython-312-darwin.so'>"
      ]
     },
     "execution_count": 13,
     "metadata": {},
     "output_type": "execute_result"
    }
   ],
   "source": [
    "import importlib\n",
    "import pypumila\n",
    "importlib.reload(pypumila)"
   ]
  },
  {
   "cell_type": "code",
   "execution_count": null,
   "id": "ed243954-8b00-4dea-ae36-5a25ac603487",
   "metadata": {},
   "outputs": [],
   "source": []
  }
 ],
 "metadata": {
  "kernelspec": {
   "display_name": "Python 3 (ipykernel)",
   "language": "python",
   "name": "python3"
  },
  "language_info": {
   "codemirror_mode": {
    "name": "ipython",
    "version": 3
   },
   "file_extension": ".py",
   "mimetype": "text/x-python",
   "name": "python",
   "nbconvert_exporter": "python",
   "pygments_lexer": "ipython3",
   "version": "3.12.1"
  }
 },
 "nbformat": 4,
 "nbformat_minor": 5
}
