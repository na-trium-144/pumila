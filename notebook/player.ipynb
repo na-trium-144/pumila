{
 "cells": [
  {
   "cell_type": "code",
   "execution_count": null,
   "id": "835fb8b2-978e-4ed2-8605-a3e43f54104d",
   "metadata": {},
   "outputs": [],
   "source": [
    "import sys\n",
    "import os\n",
    "build_path = os.path.join(os.getcwd(), \"..\", \"build\")\n",
    "!cmake -B {build_path} -DPYTHON_EXECUTABLE={sys.executable} -Wno-dev -DCMAKE_BUILD_TYPE=Release ..\n",
    "!cmake --build {build_path} -t pypumila"
   ]
  },
  {
   "cell_type": "code",
   "execution_count": 2,
   "id": "bd9621a5-7887-4025-a7f6-6a9335573bd2",
   "metadata": {},
   "outputs": [
    {
     "name": "stdout",
     "output_type": "stream",
     "text": [
      "pygame 2.5.2 (SDL 2.28.3, Python 3.12.3)\n",
      "Hello from the pygame community. https://www.pygame.org/contribute.html\n"
     ]
    }
   ],
   "source": [
    "os.chdir(build_path)\n",
    "import pumila"
   ]
  },
  {
   "cell_type": "code",
   "execution_count": 3,
   "id": "f5800b7a-737a-4451-8706-49e3fd8098c3",
   "metadata": {},
   "outputs": [],
   "source": [
    "win = pumila.Window()"
   ]
  },
  {
   "cell_type": "code",
   "execution_count": 4,
   "id": "67a2d6ec-a9c9-43e0-a538-5ed09a2fd192",
   "metadata": {},
   "outputs": [],
   "source": [
    "sim = pumila.GameSim.make_new()"
   ]
  },
  {
   "cell_type": "code",
   "execution_count": 5,
   "id": "4e179001-323d-48f7-971e-d8edbe1c4e2d",
   "metadata": {},
   "outputs": [],
   "source": [
    "win.set_sim([(sim, True)])"
   ]
  },
  {
   "cell_type": "code",
   "execution_count": 6,
   "id": "eb219f83-0b56-410c-9939-c79ad9d88d29",
   "metadata": {},
   "outputs": [],
   "source": [
    "import time"
   ]
  },
  {
   "cell_type": "code",
   "execution_count": null,
   "id": "c69ee6b2-b012-4a14-afb4-f50d9c418218",
   "metadata": {},
   "outputs": [],
   "source": [
    "while True:\n",
    "    if win.phase == pumila.WindowPhase.GAME:\n",
    "        sim.step()\n",
    "    win.step()\n",
    "    time.sleep(0.016)"
   ]
  },
  {
   "cell_type": "code",
   "execution_count": null,
   "id": "63edcccd-2b08-47a2-ae5a-0b6153264a7f",
   "metadata": {},
   "outputs": [],
   "source": []
  }
 ],
 "metadata": {
  "kernelspec": {
   "display_name": "Python 3 (ipykernel)",
   "language": "python",
   "name": "python3"
  },
  "language_info": {
   "codemirror_mode": {
    "name": "ipython",
    "version": 3
   },
   "file_extension": ".py",
   "mimetype": "text/x-python",
   "name": "python",
   "nbconvert_exporter": "python",
   "pygments_lexer": "ipython3",
   "version": "3.12.3"
  }
 },
 "nbformat": 4,
 "nbformat_minor": 5
}
