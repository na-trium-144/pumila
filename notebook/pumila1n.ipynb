{
 "cells": [
  {
   "cell_type": "code",
   "execution_count": 1,
   "id": "f8631ae4-e70e-44f4-8404-ac6bd7326b5f",
   "metadata": {},
   "outputs": [
    {
     "name": "stdout",
     "output_type": "stream",
     "text": [
      "-- Eigen3 found\n",
      "-- SDL2 and SDL2TTF found\n",
      "-- Fetching pybind11 source...\n",
      "-- pybind11 v2.11.1 \n",
      "-- Fetching BS::thread_pool source...\n",
      "-- Fetching roboto font...\n",
      "-- Configuring done (1.6s)\n",
      "-- Generating done (0.0s)\n",
      "-- Build files have been written to: /Users/kou/projects/pumila/build\n",
      "[  8%] \u001b[32mBuilding CXX object CMakeFiles/pumila.dir/src/pumila/models/pumila1n.cc.o\u001b[0m\n",
      "[ 16%] \u001b[32m\u001b[1mLinking CXX shared library libpumila.dylib\u001b[0m\n",
      "ld: warning: ignoring duplicate libraries: '-lSDL2', '-lSDL2_ttf'\n",
      "[ 66%] Built target pumila\n",
      "[ 75%] \u001b[32mBuilding CXX object CMakeFiles/pypumila.dir/src/pypumila/pypumila.cc.o\u001b[0m\n",
      "[ 83%] \u001b[32m\u001b[1mLinking CXX shared module pypumila.cpython-311-darwin.so\u001b[0m\n",
      "[ 83%] Built target pypumila\n",
      "[ 91%] \u001b[32mBuilding CXX object CMakeFiles/pumila-play.dir/src/play/main.cc.o\u001b[0m\n",
      "[100%] \u001b[32m\u001b[1mLinking CXX executable pumila-play\u001b[0m\n",
      "[100%] Built target pumila-play\n"
     ]
    }
   ],
   "source": [
    "import sys\n",
    "import os\n",
    "build_path = os.path.join(os.getcwd(), \"..\", \"build\")\n",
    "!cmake -B {build_path} -DPYTHON_EXECUTABLE={sys.executable} -Wno-dev ..\n",
    "!cmake --build {build_path}\n",
    "if build_path not in sys.path:\n",
    "    sys.path.append(build_path)\n",
    "import pypumila\n",
    "os.chdir(build_path)\n",
    "# to reload pypumila, restart python kernel.\n",
    "# importlib.reload(pypumila) <- does not work"
   ]
  },
  {
   "cell_type": "code",
   "execution_count": 8,
   "id": "78683b3e-b2f0-430b-a343-dd42f17ede16",
   "metadata": {},
   "outputs": [],
   "source": [
    "sim = pypumila.GameSim()\n",
    "win = pypumila.Window(sim)\n",
    "win.step(False, False)\n",
    "model = pypumila.Pumila1N(4)"
   ]
  },
  {
   "cell_type": "code",
   "execution_count": 9,
   "id": "ae90ef11-9abc-43a6-9411-8e3cc0e15c62",
   "metadata": {},
   "outputs": [],
   "source": [
    "for e2 in range(50):\n",
    "    a = model.get_action(sim)\n",
    "    sim.put(pypumila.actions[a])\n",
    "    while not sim.is_free_phase():\n",
    "        # sim.step()\n",
    "        win.step(True, False)\n",
    "    for i in range(30):\n",
    "        win.step(True, False)\n",
    "    # print_sim()"
   ]
  },
  {
   "cell_type": "code",
   "execution_count": 10,
   "id": "ce2bec19-c6cf-489c-89a2-800a45dc1077",
   "metadata": {},
   "outputs": [],
   "source": [
    "win.quit()"
   ]
  },
  {
   "cell_type": "code",
   "execution_count": null,
   "id": "fb63610e-e878-48fa-b260-7e216d093aa7",
   "metadata": {},
   "outputs": [],
   "source": []
  }
 ],
 "metadata": {
  "kernelspec": {
   "display_name": "Python 3 (ipykernel)",
   "language": "python",
   "name": "python3"
  },
  "language_info": {
   "codemirror_mode": {
    "name": "ipython",
    "version": 3
   },
   "file_extension": ".py",
   "mimetype": "text/x-python",
   "name": "python",
   "nbconvert_exporter": "python",
   "pygments_lexer": "ipython3",
   "version": "3.11.7"
  }
 },
 "nbformat": 4,
 "nbformat_minor": 5
}
