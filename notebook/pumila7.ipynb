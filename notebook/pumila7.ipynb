{
 "cells": [
  {
   "cell_type": "code",
   "execution_count": null,
   "id": "017182b3-37f8-4d7d-b32a-dcd00dee6836",
   "metadata": {},
   "outputs": [],
   "source": [
    "import sys\n",
    "import os\n",
    "build_path = os.path.join(os.getcwd(), \"..\", \"build\")\n",
    "!cmake -B {build_path} -DPYTHON_EXECUTABLE={sys.executable} -Wno-dev ..\n",
    "!cmake --build {build_path}\n",
    "if build_path not in sys.path:\n",
    "    sys.path.append(build_path)\n",
    "import pypumila\n",
    "# to reload pypumila, restart python kernel.\n",
    "# importlib.reload(pypumila) <- does not work"
   ]
  },
  {
   "cell_type": "code",
   "execution_count": 2,
   "id": "ed243954-8b00-4dea-ae36-5a25ac603487",
   "metadata": {},
   "outputs": [],
   "source": [
    "os.chdir(build_path)\n",
    "sim = pypumila.GameSim()"
   ]
  },
  {
   "cell_type": "code",
   "execution_count": 3,
   "id": "7225fffd-c98f-4be0-b881-80544b896f97",
   "metadata": {},
   "outputs": [],
   "source": [
    "import numpy as np"
   ]
  },
  {
   "cell_type": "code",
   "execution_count": 4,
   "id": "f2660f55-78ad-4b2e-b2f4-33d0ecb88038",
   "metadata": {},
   "outputs": [],
   "source": [
    "from tqdm.notebook import tqdm"
   ]
  },
  {
   "cell_type": "code",
   "execution_count": 5,
   "id": "36103c40-7d4a-4870-8852-7e54f0e20eac",
   "metadata": {},
   "outputs": [],
   "source": [
    "import random"
   ]
  },
  {
   "cell_type": "code",
   "execution_count": null,
   "id": "7d8aa703-9cdd-4dfb-a1af-cb9e40bb8279",
   "metadata": {},
   "outputs": [
    {
     "name": "stdout",
     "output_type": "stream",
     "text": [
      "hidden = 1\n"
     ]
    },
    {
     "data": {
      "application/vnd.jupyter.widget-view+json": {
       "model_id": "b1bb1ba8a8cb400f9508770a48022d7a",
       "version_major": 2,
       "version_minor": 0
      },
      "text/plain": [
       "  0%|          | 0/10000 [00:00<?, ?it/s]"
      ]
     },
     "metadata": {},
     "output_type": "display_data"
    }
   ],
   "source": [
    "models = []\n",
    "models_first = []\n",
    "rewards = []\n",
    "scores = []\n",
    "for i, hidden in enumerate(np.geomspace(1, 1000, 7)):\n",
    "    print(f\"hidden = {int(hidden)}\")\n",
    "    models.append(pypumila.Pumila7.make_shared(int(hidden)))\n",
    "    models_first.append(models[i].copy())\n",
    "    it = 10000\n",
    "    rewards.append([])\n",
    "    scores.append([])\n",
    "    with tqdm(total=it) as pbar:\n",
    "        while pbar.n < it:\n",
    "            sim = pypumila.GameSim()\n",
    "            rnd_p = random.random()\n",
    "            # print(rnd_p)\n",
    "            for e in range(50):\n",
    "                pbar.update()\n",
    "                a = models[i].get_action_rnd(sim.field, rnd_p)\n",
    "                models[i].learn_step(sim.field)\n",
    "                # diff = model.mean_diff\n",
    "                sim.put(pypumila.actions[a])\n",
    "                while not sim.is_free_phase():\n",
    "                    sim.step()\n",
    "                reward = models[i].calc_reward(sim.field)\n",
    "                rewards[i].append(reward)\n",
    "                # diffs.append(diff)\n",
    "                # このdiffはだいぶ前の学習結果で使ったdiffなので参考にならない\n",
    "                #print(f\"a = {a}, reward = {reward}, chain = {sim.field.prev_chain_num}, diff = {diff}\")\n",
    "            # print(\"reset sim\")\n",
    "            scores[i].append(sim.field.total_score)\n",
    "            "
   ]
  },
  {
   "cell_type": "code",
   "execution_count": null,
   "id": "987640c5-f8bd-45b1-8fc4-da213537e578",
   "metadata": {},
   "outputs": [],
   "source": [
    "import matplotlib.pyplot as plt"
   ]
  },
  {
   "cell_type": "code",
   "execution_count": null,
   "id": "5b47d9d7-e1da-4e90-ab95-0a075279d27e",
   "metadata": {},
   "outputs": [],
   "source": [
    "plt.plot(np.array(rewards).T, label=[str(int(h)) for h in np.geomspace(1, 1000, 7)])"
   ]
  },
  {
   "cell_type": "code",
   "execution_count": null,
   "id": "2d7689dd-34a4-4c04-9665-d7aff042639f",
   "metadata": {},
   "outputs": [],
   "source": [
    "ar = np.array(rewards)\n",
    "plt.plot(\n",
    "    np.array([[np.average(ar[j, i:i+100]) for i in range(len(rewards[j])-100)] for j in range(7)]).T,\n",
    "    label=[str(int(h)) for h in np.geomspace(1, 1000, 7)]\n",
    ")\n",
    "plt.legend()"
   ]
  },
  {
   "cell_type": "code",
   "execution_count": null,
   "id": "fae42b22-768a-4e55-bee0-012e2c88e0a4",
   "metadata": {},
   "outputs": [],
   "source": [
    "ar = np.array(rewards)\n",
    "plt.plot(\n",
    "    np.array([[np.average(ar[j, i:i+1000]) for i in range(len(rewards[j])-1000)] for j in range(7)]).T,\n",
    "    label=[str(int(h)) for h in np.geomspace(1, 1000, 7)]\n",
    ")\n",
    "plt.legend()"
   ]
  },
  {
   "cell_type": "code",
   "execution_count": null,
   "id": "536851f0-c5b7-4be4-b268-3c1454f7d228",
   "metadata": {},
   "outputs": [],
   "source": [
    "plt.plot(np.array(scores).T, label=[str(int(h)) for h in np.geomspace(1, 1000, 7)])\n",
    "plt.legend()"
   ]
  },
  {
   "cell_type": "code",
   "execution_count": null,
   "id": "d169b995-5e27-4181-beb0-b6d6b9eb1142",
   "metadata": {},
   "outputs": [],
   "source": [
    "ar = np.array(scores)\n",
    "plt.plot(\n",
    "    np.array([[np.average(ar[j, i:i+100]) for i in range(len(scores[j])-100)] for j in range(7)]).T,\n",
    "    label=[str(int(h)) for h in np.geomspace(1, 1000, 7)]\n",
    ")\n",
    "plt.legend()"
   ]
  },
  {
   "cell_type": "code",
   "execution_count": null,
   "id": "79170bab-3d0a-4fd5-857b-c25740a8e389",
   "metadata": {},
   "outputs": [],
   "source": [
    "for i in range(7):\n",
    "    models[i].save_file(f\"pumila7_{i}\")"
   ]
  },
  {
   "cell_type": "code",
   "execution_count": 6,
   "id": "062574c2-3024-4b99-b996-a5978b8103d5",
   "metadata": {},
   "outputs": [
    {
     "name": "stderr",
     "output_type": "stream",
     "text": [
      "error opening file pumila7_0.bin\n",
      "error opening file pumila7_1.bin\n",
      "error opening file pumila7_2.bin\n",
      "error opening file pumila7_3.bin\n",
      "error opening file pumila7_4.bin\n",
      "error opening file pumila7_5.bin\n",
      "error opening file pumila7_6.bin\n"
     ]
    }
   ],
   "source": [
    "models = []\n",
    "for i in range(7):\n",
    "    models.append(pypumila.Pumila7.make_shared(1))\n",
    "    models[i].load_file(f\"pumila7_{i}\")"
   ]
  },
  {
   "cell_type": "code",
   "execution_count": 14,
   "id": "e7cac282-6462-4a95-9a08-d1ec2e57a227",
   "metadata": {},
   "outputs": [],
   "source": [
    "sim = pypumila.GameSim()\n",
    "win = pypumila.Window(sim)\n",
    "win.step(False)"
   ]
  },
  {
   "cell_type": "code",
   "execution_count": 15,
   "id": "325d6532-0639-45ff-b273-641aae2aa901",
   "metadata": {},
   "outputs": [
    {
     "ename": "KeyboardInterrupt",
     "evalue": "",
     "output_type": "error",
     "traceback": [
      "\u001b[0;31m---------------------------------------------------------------------------\u001b[0m",
      "\u001b[0;31mKeyboardInterrupt\u001b[0m                         Traceback (most recent call last)",
      "Cell \u001b[0;32mIn[15], line 8\u001b[0m\n\u001b[1;32m      6\u001b[0m     win\u001b[38;5;241m.\u001b[39mstep(\u001b[38;5;28;01mTrue\u001b[39;00m)\n\u001b[1;32m      7\u001b[0m \u001b[38;5;28;01mfor\u001b[39;00m i \u001b[38;5;129;01min\u001b[39;00m \u001b[38;5;28mrange\u001b[39m(\u001b[38;5;241m15\u001b[39m):\n\u001b[0;32m----> 8\u001b[0m     \u001b[43mwin\u001b[49m\u001b[38;5;241;43m.\u001b[39;49m\u001b[43mstep\u001b[49m\u001b[43m(\u001b[49m\u001b[38;5;28;43;01mTrue\u001b[39;49;00m\u001b[43m)\u001b[49m\n",
      "\u001b[0;31mKeyboardInterrupt\u001b[0m: "
     ]
    }
   ],
   "source": [
    "while True:\n",
    "    # print(model.main.forward(model.get_in_nodes(sim.field).in_nodes).q)\n",
    "    a = models[4].get_action(sim)\n",
    "    sim.put(pypumila.actions[a])\n",
    "    while not sim.is_free_phase():\n",
    "        win.step(True)\n",
    "    for i in range(15):\n",
    "        win.step(True)"
   ]
  },
  {
   "cell_type": "code",
   "execution_count": 16,
   "id": "b7b760ef-998e-41a1-8d68-745553e0ebfe",
   "metadata": {},
   "outputs": [],
   "source": [
    "win.quit()"
   ]
  }
 ],
 "metadata": {
  "kernelspec": {
   "display_name": "Python 3 (ipykernel)",
   "language": "python",
   "name": "python3"
  },
  "language_info": {
   "codemirror_mode": {
    "name": "ipython",
    "version": 3
   },
   "file_extension": ".py",
   "mimetype": "text/x-python",
   "name": "python",
   "nbconvert_exporter": "python",
   "pygments_lexer": "ipython3",
   "version": "3.11.7"
  }
 },
 "nbformat": 4,
 "nbformat_minor": 5
}
