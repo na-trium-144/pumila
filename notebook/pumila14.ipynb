{
 "cells": [
  {
   "cell_type": "code",
   "execution_count": 1,
   "id": "6f61d5be-8676-476e-9efb-d85ae8571d2a",
   "metadata": {},
   "outputs": [],
   "source": [
    "import sys\n",
    "import os\n",
    "build_path = os.path.join(os.getcwd(), \"..\", \"build\")"
   ]
  },
  {
   "cell_type": "code",
   "execution_count": 2,
   "id": "0fccde39-f343-4a87-9f6e-93252ddf3569",
   "metadata": {},
   "outputs": [
    {
     "data": {
      "text/plain": [
       "499992"
      ]
     },
     "execution_count": 2,
     "metadata": {},
     "output_type": "execute_result"
    }
   ],
   "source": [
    "os.getpid()"
   ]
  },
  {
   "cell_type": "code",
   "execution_count": null,
   "id": "f4b96270-6132-463a-af9a-97e7af2fedf8",
   "metadata": {},
   "outputs": [],
   "source": [
    "# build_type = \"Release\"\n",
    "build_type = \"RelWithDebInfo\"\n",
    "import psutil\n",
    "!cmake .. -B {build_path} -DPYTHON_EXECUTABLE={sys.executable} -Wno-dev -DCMAKE_BUILD_TYPE={build_type}\n",
    "!cmake --build {build_path} -t pypumila -j {psutil.cpu_count()}"
   ]
  },
  {
   "cell_type": "code",
   "execution_count": 4,
   "id": "4d18e337-1434-47c1-ba16-6e0cb12610ca",
   "metadata": {},
   "outputs": [
    {
     "name": "stdout",
     "output_type": "stream",
     "text": [
      "pygame 2.5.2 (SDL 2.28.2, Python 3.10.12)\n",
      "Hello from the pygame community. https://www.pygame.org/contribute.html\n"
     ]
    }
   ],
   "source": [
    "os.chdir(build_path)\n",
    "import pumila\n",
    "# to reload pypumila, restart python kernel.\n",
    "# importlib.reload(pypumila) <- does not work\n",
    "\n",
    "import numpy as np\n",
    "from tqdm.notebook import tqdm\n",
    "import random\n",
    "import matplotlib\n",
    "import matplotlib.pyplot as plt\n",
    "import torch"
   ]
  },
  {
   "cell_type": "code",
   "execution_count": 5,
   "id": "e7126475-5bf4-4f57-ac98-cefe32357a17",
   "metadata": {},
   "outputs": [
    {
     "name": "stdout",
     "output_type": "stream",
     "text": [
      "cpu\n"
     ]
    }
   ],
   "source": [
    "num_step = 100000\n",
    "learning = pumila.Learning(\n",
    "    Net=pumila.Net14,\n",
    "    eps_decay=50000\n",
    ")\n",
    "print(learning.device)\n",
    "sim = pumila.GameSim()\n",
    "sim.enable_garbage = False"
   ]
  },
  {
   "cell_type": "code",
   "execution_count": 6,
   "id": "9cf73246-ecde-4d0a-a07f-289a49753397",
   "metadata": {},
   "outputs": [],
   "source": [
    "from concurrent.futures import ThreadPoolExecutor\n",
    "pool = ThreadPoolExecutor()"
   ]
  },
  {
   "cell_type": "code",
   "execution_count": 7,
   "id": "84acc44b-d798-44bc-8114-9fa106ee421f",
   "metadata": {},
   "outputs": [],
   "source": [
    "from collections import deque\n",
    "reset_step = 100\n",
    "steps = deque()\n",
    "rewards = []\n",
    "def sim_step():\n",
    "    data = learning.get_step(sim)\n",
    "    steps.append(data.step)\n",
    "    action = learning.select_action(data)\n",
    "    learning.push_step(data, action)\n",
    "    sim.put(pumila.actions[action])\n",
    "    sim.step()\n",
    "    while sim.phase_get() != pumila.GameSim.PhaseEnum.free:\n",
    "        sim.step()\n",
    "    if sim.is_over or sim.step_count >= reset_step:\n",
    "        sim.reset()\n",
    "    while len(steps) and steps[0].done():\n",
    "        step = steps.popleft()\n",
    "        rewards.append(learning.policy_net.reward(step))"
   ]
  },
  {
   "cell_type": "code",
   "execution_count": null,
   "id": "ca2405fc-421a-4890-b085-dcfc06057d24",
   "metadata": {},
   "outputs": [
    {
     "data": {
      "application/vnd.jupyter.widget-view+json": {
       "model_id": "5a49a90f7a4949c6a5b201c733c1dfc4",
       "version_major": 2,
       "version_minor": 0
      },
      "text/plain": [
       "  0%|          | 0/100000 [00:00<?, ?it/s]"
      ]
     },
     "metadata": {},
     "output_type": "display_data"
    }
   ],
   "source": [
    "diffs = []\n",
    "for i_episode in tqdm(range(num_step)):\n",
    "    ss = pool.submit(sim_step)\n",
    "    batch = learning.get_batch()\n",
    "    if batch:\n",
    "        q = pool.submit(learning.calc_q_batch, batch)\n",
    "        expected_q = pool.submit(learning.calc_expected_q_batch, batch)\n",
    "        diffs.append((q.result() - expected_q.result()).abs().mean())\n",
    "        learning.optimize_batch(q.result(), expected_q.result())\n",
    "        learning.update_target_net()\n",
    "    ss.result()    "
   ]
  },
  {
   "cell_type": "code",
   "execution_count": null,
   "id": "2322080c-2e08-49bb-9775-2d62b593c42c",
   "metadata": {},
   "outputs": [],
   "source": [
    "torch.save(learning.policy_net, \"pumila14.pt\")"
   ]
  },
  {
   "cell_type": "code",
   "execution_count": 8,
   "id": "3ea6bd69-1a9e-4fc9-b5a3-8c31eb1cf9f3",
   "metadata": {},
   "outputs": [],
   "source": [
    "win = pumila.Window()\n",
    "sim = pumila.GameSim()\n",
    "win.set_sim([(sim, False)])"
   ]
  },
  {
   "cell_type": "code",
   "execution_count": 13,
   "id": "94a12e61-0b6c-4f24-8e64-b2075d007189",
   "metadata": {},
   "outputs": [
    {
     "ename": "KeyboardInterrupt",
     "evalue": "",
     "output_type": "error",
     "traceback": [
      "\u001b[0;31m---------------------------------------------------------------------------\u001b[0m",
      "\u001b[0;31mKeyboardInterrupt\u001b[0m                         Traceback (most recent call last)",
      "Cell \u001b[0;32mIn[13], line 5\u001b[0m\n\u001b[1;32m      3\u001b[0m time\u001b[38;5;241m.\u001b[39msleep(\u001b[38;5;241m0.016\u001b[39m)\n\u001b[1;32m      4\u001b[0m \u001b[38;5;28;01mif\u001b[39;00m sim\u001b[38;5;241m.\u001b[39mphase_get() \u001b[38;5;241m==\u001b[39m pumila\u001b[38;5;241m.\u001b[39mGameSim\u001b[38;5;241m.\u001b[39mPhaseEnum\u001b[38;5;241m.\u001b[39mfree:\n\u001b[0;32m----> 5\u001b[0m     step, feat \u001b[38;5;241m=\u001b[39m \u001b[43mlearning\u001b[49m\u001b[38;5;241;43m.\u001b[39;49m\u001b[43mget_step\u001b[49m\u001b[43m(\u001b[49m\u001b[43msim\u001b[49m\u001b[43m)\u001b[49m\n\u001b[1;32m      6\u001b[0m     action \u001b[38;5;241m=\u001b[39m learning\u001b[38;5;241m.\u001b[39mselect_action(feat, \u001b[38;5;241m0\u001b[39m)\n\u001b[1;32m      7\u001b[0m     sim\u001b[38;5;241m.\u001b[39msoft_put(pumila\u001b[38;5;241m.\u001b[39mactions[action])\n",
      "File \u001b[0;32m~/projects/pumila/pumila/learning.py:162\u001b[0m, in \u001b[0;36mLearning.get_step\u001b[0;34m(self, sim)\u001b[0m\n\u001b[1;32m    160\u001b[0m \u001b[38;5;28;01mdef\u001b[39;00m \u001b[38;5;21mget_step\u001b[39m(\u001b[38;5;28mself\u001b[39m, sim: pypumila\u001b[38;5;241m.\u001b[39mGameSim) \u001b[38;5;241m-\u001b[39m\u001b[38;5;241m>\u001b[39m Tuple[pypumila\u001b[38;5;241m.\u001b[39mStepResult, np\u001b[38;5;241m.\u001b[39mndarray]:\n\u001b[1;32m    161\u001b[0m     step \u001b[38;5;241m=\u001b[39m sim\u001b[38;5;241m.\u001b[39mcurrent_step()\n\u001b[0;32m--> 162\u001b[0m     feat \u001b[38;5;241m=\u001b[39m \u001b[38;5;28;43mself\u001b[39;49m\u001b[38;5;241;43m.\u001b[39;49m\u001b[43mpolicy_net\u001b[49m\u001b[38;5;241;43m.\u001b[39;49m\u001b[43mcalc_action\u001b[49m\u001b[43m(\u001b[49m\u001b[43mstep\u001b[49m\u001b[43m)\u001b[49m\n\u001b[1;32m    163\u001b[0m     \u001b[38;5;28;01mreturn\u001b[39;00m (step, feat)\n",
      "File \u001b[0;32m~/projects/pumila/pumila/pumila14.py:19\u001b[0m, in \u001b[0;36mNet14.calc_action\u001b[0;34m(self, state)\u001b[0m\n\u001b[1;32m     18\u001b[0m \u001b[38;5;28;01mdef\u001b[39;00m \u001b[38;5;21mcalc_action\u001b[39m(\u001b[38;5;28mself\u001b[39m, state: StepResult) \u001b[38;5;241m-\u001b[39m\u001b[38;5;241m>\u001b[39m np\u001b[38;5;241m.\u001b[39mndarray:\n\u001b[0;32m---> 19\u001b[0m     \u001b[38;5;28;01mreturn\u001b[39;00m np\u001b[38;5;241m.\u001b[39marray(\u001b[43mPumila14\u001b[49m\u001b[38;5;241;43m.\u001b[39;49m\u001b[43mcalc_action\u001b[49m\u001b[43m(\u001b[49m\u001b[43mstate\u001b[49m\u001b[43m)\u001b[49m, copy\u001b[38;5;241m=\u001b[39m\u001b[38;5;28;01mFalse\u001b[39;00m)\n",
      "\u001b[0;31mKeyboardInterrupt\u001b[0m: "
     ]
    }
   ],
   "source": [
    "import time\n",
    "while True:\n",
    "    time.sleep(0.016)\n",
    "    if sim.phase_get() == pumila.GameSim.PhaseEnum.free:\n",
    "        step, feat = learning.get_step(sim)\n",
    "        action = learning.select_action(feat, 0)\n",
    "        sim.soft_put(pumila.actions[action])\n",
    "    sim.step()\n",
    "    win.step()"
   ]
  },
  {
   "cell_type": "code",
   "execution_count": 16,
   "id": "01fc460f-0cfd-4b9c-9d33-2aa63cad9d4e",
   "metadata": {},
   "outputs": [
    {
     "ename": "AttributeError",
     "evalue": "'pypumila.GameSim' object has no attribute 'reset'",
     "output_type": "error",
     "traceback": [
      "\u001b[0;31m---------------------------------------------------------------------------\u001b[0m",
      "\u001b[0;31mAttributeError\u001b[0m                            Traceback (most recent call last)",
      "Cell \u001b[0;32mIn[16], line 1\u001b[0m\n\u001b[0;32m----> 1\u001b[0m \u001b[43msim\u001b[49m\u001b[38;5;241;43m.\u001b[39;49m\u001b[43mreset\u001b[49m()\n",
      "\u001b[0;31mAttributeError\u001b[0m: 'pypumila.GameSim' object has no attribute 'reset'"
     ]
    }
   ],
   "source": [
    "sim.reset()"
   ]
  }
 ],
 "metadata": {
  "kernelspec": {
   "display_name": "Python 3 (ipykernel)",
   "language": "python",
   "name": "python3"
  },
  "language_info": {
   "codemirror_mode": {
    "name": "ipython",
    "version": 3
   },
   "file_extension": ".py",
   "mimetype": "text/x-python",
   "name": "python",
   "nbconvert_exporter": "python",
   "pygments_lexer": "ipython3",
   "version": "3.10.12"
  }
 },
 "nbformat": 4,
 "nbformat_minor": 5
}
