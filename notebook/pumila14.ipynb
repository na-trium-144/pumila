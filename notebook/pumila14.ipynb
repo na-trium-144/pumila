{
 "cells": [
  {
   "cell_type": "code",
   "execution_count": 1,
   "id": "6f61d5be-8676-476e-9efb-d85ae8571d2a",
   "metadata": {},
   "outputs": [
    {
     "name": "stdout",
     "output_type": "stream",
     "text": [
      "-- Build Type = Release\n",
      "-- Fetching pybind11 source...\n",
      "-- pybind11 v2.12.0 \n",
      "-- Fetching BS::thread_pool source...\n",
      "-- Fetching cli11 source...\n",
      "-- Fetching roboto font...\n",
      "-- Fetching googletest Source...\n",
      "-- Configuring done\n",
      "-- Generating done\n",
      "-- Build files have been written to: /home/kou/projects/pumila/build\n",
      "\u001b[35m\u001b[1mConsolidate compiler generated dependencies of target pumila-core\u001b[0m\n",
      "[ 75%] Built target pumila-core\n",
      "\u001b[35m\u001b[1mConsolidate compiler generated dependencies of target pypumila\u001b[0m\n",
      "[ 87%] \u001b[32mBuilding CXX object CMakeFiles/pypumila.dir/pumila-core/pypumila.cc.o\u001b[0m\n",
      "[100%] \u001b[32m\u001b[1mLinking CXX shared module pypumila.cpython-310-x86_64-linux-gnu.so\u001b[0m\n",
      "lto-wrapper: warning: using serial compilation of 6 LTRANS jobs\n",
      "[100%] Built target pypumila\n"
     ]
    }
   ],
   "source": [
    "import sys\n",
    "import os\n",
    "build_path = os.path.join(os.getcwd(), \"..\", \"build\")\n",
    "!cmake -B {build_path} -DPYTHON_EXECUTABLE={sys.executable} -Wno-dev -DCMAKE_BUILD_TYPE=Release ..\n",
    "!cmake --build {build_path} -t pypumila"
   ]
  },
  {
   "cell_type": "code",
   "execution_count": 2,
   "id": "4d18e337-1434-47c1-ba16-6e0cb12610ca",
   "metadata": {},
   "outputs": [],
   "source": [
    "os.chdir(build_path)\n",
    "import pypumila\n",
    "# to reload pypumila, restart python kernel.\n",
    "# importlib.reload(pypumila) <- does not work\n",
    "\n",
    "import numpy as np\n",
    "from tqdm.notebook import tqdm\n",
    "import random\n",
    "import matplotlib.pyplot as plt"
   ]
  },
  {
   "cell_type": "code",
   "execution_count": null,
   "id": "fcfcc72f-9344-497a-807a-1f5aefc50f41",
   "metadata": {},
   "outputs": [],
   "source": []
  }
 ],
 "metadata": {
  "kernelspec": {
   "display_name": "Python 3 (ipykernel)",
   "language": "python",
   "name": "python3"
  },
  "language_info": {
   "codemirror_mode": {
    "name": "ipython",
    "version": 3
   },
   "file_extension": ".py",
   "mimetype": "text/x-python",
   "name": "python",
   "nbconvert_exporter": "python",
   "pygments_lexer": "ipython3",
   "version": "3.10.12"
  }
 },
 "nbformat": 4,
 "nbformat_minor": 5
}
