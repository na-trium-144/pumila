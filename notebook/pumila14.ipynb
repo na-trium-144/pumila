{
 "cells": [
  {
   "cell_type": "code",
   "execution_count": null,
   "id": "6f61d5be-8676-476e-9efb-d85ae8571d2a",
   "metadata": {},
   "outputs": [],
   "source": [
    "import sys\n",
    "import os\n",
    "build_path = os.path.join(os.getcwd(), \"..\", \"build\")\n",
    "!cmake -B {build_path} -DPYTHON_EXECUTABLE={sys.executable} -Wno-dev -DCMAKE_BUILD_TYPE=Release ..\n",
    "!cmake --build {build_path} -t pypumila"
   ]
  },
  {
   "cell_type": "code",
   "execution_count": 2,
   "id": "4d18e337-1434-47c1-ba16-6e0cb12610ca",
   "metadata": {},
   "outputs": [
    {
     "name": "stdout",
     "output_type": "stream",
     "text": [
      "pygame 2.5.2 (SDL 2.28.3, Python 3.12.3)\n",
      "Hello from the pygame community. https://www.pygame.org/contribute.html\n"
     ]
    }
   ],
   "source": [
    "os.chdir(build_path)\n",
    "import pumila\n",
    "# to reload pypumila, restart python kernel.\n",
    "# importlib.reload(pypumila) <- does not work\n",
    "\n",
    "import numpy as np\n",
    "from tqdm.notebook import tqdm\n",
    "import random\n",
    "import matplotlib\n",
    "import matplotlib.pyplot as plt"
   ]
  },
  {
   "cell_type": "code",
   "execution_count": 3,
   "id": "fcfcc72f-9344-497a-807a-1f5aefc50f41",
   "metadata": {},
   "outputs": [],
   "source": [
    "import torch\n",
    "import torch.nn as nn\n",
    "import torch.optim as optim\n",
    "import torch.nn.functional as F\n",
    "from itertools import count\n",
    "import math"
   ]
  },
  {
   "cell_type": "code",
   "execution_count": 4,
   "id": "611806c3-e151-4d52-9bd4-1742aab16f92",
   "metadata": {},
   "outputs": [
    {
     "data": {
      "text/plain": [
       "<contextlib.ExitStack at 0x120dcac00>"
      ]
     },
     "execution_count": 4,
     "metadata": {},
     "output_type": "execute_result"
    }
   ],
   "source": [
    "is_ipython = 'inline' in matplotlib.get_backend()\n",
    "if is_ipython:\n",
    "    from IPython import display\n",
    "plt.ion()"
   ]
  },
  {
   "cell_type": "code",
   "execution_count": 5,
   "id": "e7126475-5bf4-4f57-ac98-cefe32357a17",
   "metadata": {},
   "outputs": [
    {
     "name": "stdout",
     "output_type": "stream",
     "text": [
      "mps\n"
     ]
    }
   ],
   "source": [
    "# if GPU is to be used\n",
    "device = None\n",
    "if torch.cuda.is_available():\n",
    "    device = torch.device(\"cuda\")\n",
    "if device is None and torch.backends.mps.is_built():\n",
    "    if torch.backends.mps.is_available():\n",
    "        device = torch.device(\"mps\")\n",
    "    else:\n",
    "        print(\"MPS not available because the current PyTorch install was not built with MPS enabled.\")\n",
    "if device is None and torch.backends.mkldnn.is_available():\n",
    "    device = torch.device(\"mkldnn\")\n",
    "if device is None:\n",
    "    device = torch.device(\"cpu\")\n",
    "print(device)"
   ]
  },
  {
   "cell_type": "code",
   "execution_count": 6,
   "id": "e4301783-f627-462c-8b87-da33be4d2248",
   "metadata": {},
   "outputs": [],
   "source": [
    "# BATCH_SIZE is the number of transitions sampled from the replay buffer\n",
    "# GAMMA is the discount factor as mentioned in the previous section\n",
    "# EPS_START is the starting value of epsilon\n",
    "# EPS_END is the final value of epsilon\n",
    "# EPS_DECAY controls the rate of exponential decay of epsilon, higher means a slower decay\n",
    "# TAU is the update rate of the target network\n",
    "# LR is the learning rate of the ``AdamW`` optimizer\n",
    "BATCH_SIZE = 128\n",
    "GAMMA = 0.99\n",
    "EPS_START = 0.9\n",
    "EPS_END = 0.05\n",
    "EPS_DECAY = 1000\n",
    "TAU = 0.005\n",
    "LR = 1e-4"
   ]
  },
  {
   "cell_type": "code",
   "execution_count": 7,
   "id": "18683515-5859-42a8-abb1-b194355b6f29",
   "metadata": {},
   "outputs": [
    {
     "data": {
      "text/plain": [
       "<All keys matched successfully>"
      ]
     },
     "execution_count": 7,
     "metadata": {},
     "output_type": "execute_result"
    }
   ],
   "source": [
    "policy_net = pumila.Net14().to(device)\n",
    "target_net = pumila.Net14().to(device)\n",
    "target_net.load_state_dict(policy_net.state_dict())"
   ]
  },
  {
   "cell_type": "code",
   "execution_count": 8,
   "id": "2f733694-6240-4137-8d7a-9f2ef6d67211",
   "metadata": {},
   "outputs": [],
   "source": [
    "optimizer = optim.AdamW(policy_net.parameters(), lr=LR, amsgrad=True)\n",
    "memory = pumila.ReplayMemory(10000)"
   ]
  },
  {
   "cell_type": "code",
   "execution_count": 9,
   "id": "ddfeb57a-ffa5-45f7-a756-5057a3fa2e77",
   "metadata": {},
   "outputs": [],
   "source": [
    "steps_done = 0\n",
    "\n",
    "def select_action(feat: np.ndarray):\n",
    "    global steps_done\n",
    "    eps_threshold = EPS_END + (EPS_START - EPS_END) * \\\n",
    "        math.exp(-1. * steps_done / EPS_DECAY)\n",
    "    steps_done += 1\n",
    "    if random.random() > eps_threshold:\n",
    "        with torch.no_grad():\n",
    "            return policy_net(feat).max(0).indices.view(1, 1)\n",
    "    else:\n",
    "        return torch.tensor([[random.randint(0, 21)]], device=device, dtype=torch.long)"
   ]
  },
  {
   "cell_type": "code",
   "execution_count": 10,
   "id": "e103fca1-a689-48c6-bdc3-3d27c3c28ba2",
   "metadata": {},
   "outputs": [],
   "source": [
    "episode_durations = []\n",
    "\n",
    "def plot_durations(show_result=False):\n",
    "    plt.figure(1)\n",
    "    durations_t = torch.tensor(episode_durations, dtype=torch.float)\n",
    "    if show_result:\n",
    "        plt.title('Result')\n",
    "    else:\n",
    "        plt.clf()\n",
    "        plt.title('Training...')\n",
    "    plt.xlabel('Episode')\n",
    "    plt.ylabel('Duration')\n",
    "    plt.plot(durations_t.numpy())\n",
    "    # Take 100 episode averages and plot them too\n",
    "    if len(durations_t) >= 100:\n",
    "        means = durations_t.unfold(0, 100, 1).mean(1).view(-1)\n",
    "        means = torch.cat((torch.zeros(99), means))\n",
    "        plt.plot(means.numpy())\n",
    "\n",
    "    plt.pause(0.001)  # pause a bit so that plots are updated\n",
    "    if is_ipython:\n",
    "        if not show_result:\n",
    "            display.display(plt.gcf())\n",
    "            display.clear_output(wait=True)\n",
    "        else:\n",
    "            display.display(plt.gcf())"
   ]
  },
  {
   "cell_type": "code",
   "execution_count": 11,
   "id": "330054c9-3682-4c1d-b1b4-d1730eca7d4d",
   "metadata": {},
   "outputs": [],
   "source": [
    "def optimize_model():\n",
    "    if len(memory) < BATCH_SIZE:\n",
    "        return\n",
    "    batch = memory.sample(BATCH_SIZE)\n",
    "    if len(batch) < BATCH_SIZE:\n",
    "        return\n",
    "\n",
    "    state_batch = [s[0] for s in batch]\n",
    "    feat_batch = np.vstack([s[1] for s in batch])\n",
    "    reward_batch = torch.cat([torch.from_numpy(policy_net.reward(s[0])) for s in batch])\n",
    "    reward_batch_1 = reward_batch\n",
    "\n",
    "    feat_batch = torch.from_numpy(policy_net.transpose(feat_batch))\n",
    "    for i in range(21):\n",
    "        reward_batch = torch.stack([reward_batch, reward_batch_1])\n",
    "\n",
    "    state_action_values = policy_net(state_batch)\n",
    "\n",
    "    next_state_values = torch.cat([target_net(st.next()).max(0).indices.view(1, 1) for st in state_batch])\n",
    "    \n",
    "    # Compute the expected Q values\n",
    "    expected_state_action_values = (next_state_values * GAMMA) + reward_batch\n",
    "\n",
    "    # Compute Huber loss\n",
    "    criterion = nn.SmoothL1Loss()\n",
    "    loss = criterion(state_action_values, expected_state_action_values.unsqueeze(1))\n",
    "\n",
    "    # Optimize the model\n",
    "    optimizer.zero_grad()\n",
    "    loss.backward()\n",
    "    # In-place gradient clipping\n",
    "    torch.nn.utils.clip_grad_value_(policy_net.parameters(), 100)\n",
    "    optimizer.step()"
   ]
  },
  {
   "cell_type": "code",
   "execution_count": null,
   "id": "ca2405fc-421a-4890-b085-dcfc06057d24",
   "metadata": {},
   "outputs": [],
   "source": [
    "num_episodes = 1000\n",
    "num_step = 100\n",
    "\n",
    "for i_episode in tqdm(range(num_episodes)):\n",
    "    # Initialize the environment and get its state\n",
    "    sim = pumila.GameSim.make_new()\n",
    "    num_s = 0\n",
    "    for t in count():\n",
    "        step = sim.current_step()\n",
    "        feat = torch.from_numpy(policy_net.calc_action(step)).to(torch.float32).to(device)\n",
    "        action = select_action(feat)\n",
    "\n",
    "        sim.put(pumila.actions[action])\n",
    "        memory.push(step, feat)\n",
    "\n",
    "        while sim.phase_get() != pumila.GameSim.PhaseEnum.free:\n",
    "            sim.step()\n",
    "        \n",
    "        # Perform one step of the optimization (on the policy network)\n",
    "        optimize_model()\n",
    "\n",
    "        # Soft update of the target network's weights\n",
    "        # θ′ ← τ θ + (1 −τ )θ′\n",
    "        target_net_state_dict = target_net.state_dict()\n",
    "        policy_net_state_dict = policy_net.state_dict()\n",
    "        for key in policy_net_state_dict:\n",
    "            target_net_state_dict[key] = policy_net_state_dict[key]*TAU + target_net_state_dict[key]*(1-TAU)\n",
    "        target_net.load_state_dict(target_net_state_dict)\n",
    "\n",
    "        if sim.is_over or num_s > num_step:\n",
    "            episode_durations.append(t + 1)\n",
    "            # plot_durations()\n",
    "            break\n",
    "        num_s += 1\n",
    "\n",
    "print('Complete')\n",
    "plot_durations(show_result=True)\n",
    "plt.ioff()\n",
    "plt.show()"
   ]
  },
  {
   "cell_type": "code",
   "execution_count": null,
   "id": "3ea6bd69-1a9e-4fc9-b5a3-8c31eb1cf9f3",
   "metadata": {},
   "outputs": [],
   "source": []
  }
 ],
 "metadata": {
  "kernelspec": {
   "display_name": "Python 3 (ipykernel)",
   "language": "python",
   "name": "python3"
  },
  "language_info": {
   "codemirror_mode": {
    "name": "ipython",
    "version": 3
   },
   "file_extension": ".py",
   "mimetype": "text/x-python",
   "name": "python",
   "nbconvert_exporter": "python",
   "pygments_lexer": "ipython3",
   "version": "3.12.3"
  }
 },
 "nbformat": 4,
 "nbformat_minor": 5
}
