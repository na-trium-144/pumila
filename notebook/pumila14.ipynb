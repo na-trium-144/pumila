{
 "cells": [
  {
   "cell_type": "code",
   "execution_count": 1,
   "id": "6f61d5be-8676-476e-9efb-d85ae8571d2a",
   "metadata": {},
   "outputs": [],
   "source": [
    "import sys\n",
    "import os\n",
    "build_path = os.path.join(os.getcwd(), \"..\", \"build\")"
   ]
  },
  {
   "cell_type": "code",
   "execution_count": null,
   "id": "0fccde39-f343-4a87-9f6e-93252ddf3569",
   "metadata": {},
   "outputs": [],
   "source": [
    "import psutil\n",
    "!cmake .. -B {build_path} -DPYTHON_EXECUTABLE={sys.executable} -Wno-dev -DCMAKE_BUILD_TYPE=Release\n",
    "!cmake --build {build_path} -t pypumila -j {psutil.cpu_count()}"
   ]
  },
  {
   "cell_type": "code",
   "execution_count": 3,
   "id": "4d18e337-1434-47c1-ba16-6e0cb12610ca",
   "metadata": {},
   "outputs": [
    {
     "name": "stdout",
     "output_type": "stream",
     "text": [
      "pygame 2.5.2 (SDL 2.28.3, Python 3.12.3)\n",
      "Hello from the pygame community. https://www.pygame.org/contribute.html\n"
     ]
    }
   ],
   "source": [
    "os.chdir(build_path)\n",
    "import pumila\n",
    "# to reload pypumila, restart python kernel.\n",
    "# importlib.reload(pypumila) <- does not work\n",
    "\n",
    "import numpy as np\n",
    "from tqdm.notebook import tqdm\n",
    "import random\n",
    "import matplotlib\n",
    "import matplotlib.pyplot as plt\n",
    "import torch"
   ]
  },
  {
   "cell_type": "code",
   "execution_count": 4,
   "id": "e7126475-5bf4-4f57-ac98-cefe32357a17",
   "metadata": {},
   "outputs": [
    {
     "name": "stdout",
     "output_type": "stream",
     "text": [
      "mps\n"
     ]
    }
   ],
   "source": [
    "learning = pumila.Learning(Net=pumila.Net14)\n",
    "print(learning.device)"
   ]
  },
  {
   "cell_type": "code",
   "execution_count": null,
   "id": "ca2405fc-421a-4890-b085-dcfc06057d24",
   "metadata": {},
   "outputs": [],
   "source": [
    "num_step = 100000\n",
    "reset_step = 100\n",
    "sim = pumila.GameSim()\n",
    "steps = []\n",
    "for i_episode in tqdm(range(num_step)):\n",
    "    step, feat = learning.get_step(sim)\n",
    "    steps.append(step)\n",
    "    action = learning.select_action(feat)\n",
    "    learning.memory.push(step, feat, action)\n",
    "    sim.put(pumila.actions[action])\n",
    "    sim.step()\n",
    "    assert sim.phase_get() != pumila.GameSim.PhaseEnum.free\n",
    "    while sim.phase_get() != pumila.GameSim.PhaseEnum.free:\n",
    "        sim.step()\n",
    "    learning.optimize_model()\n",
    "    learning.update_target()\n",
    "    if sim.is_over or sim.step_count >= reset_step:\n",
    "        sim.reset()"
   ]
  },
  {
   "cell_type": "code",
   "execution_count": null,
   "id": "2322080c-2e08-49bb-9775-2d62b593c42c",
   "metadata": {},
   "outputs": [],
   "source": [
    "torch.save(learning.policy_net, \"pumila14.pt\")"
   ]
  },
  {
   "cell_type": "code",
   "execution_count": 13,
   "id": "3ea6bd69-1a9e-4fc9-b5a3-8c31eb1cf9f3",
   "metadata": {},
   "outputs": [],
   "source": [
    "win = pumila.Window()\n",
    "sim = pumila.GameSim()\n",
    "win.set_sim([(sim, False)])"
   ]
  },
  {
   "cell_type": "code",
   "execution_count": 14,
   "id": "94a12e61-0b6c-4f24-8e64-b2075d007189",
   "metadata": {},
   "outputs": [
    {
     "ename": "IndexError",
     "evalue": "array::at",
     "output_type": "error",
     "traceback": [
      "\u001b[0;31m---------------------------------------------------------------------------\u001b[0m",
      "\u001b[0;31mIndexError\u001b[0m                                Traceback (most recent call last)",
      "Cell \u001b[0;32mIn[14], line 6\u001b[0m\n\u001b[1;32m      4\u001b[0m \u001b[38;5;28;01mif\u001b[39;00m sim\u001b[38;5;241m.\u001b[39mphase_get() \u001b[38;5;241m==\u001b[39m pumila\u001b[38;5;241m.\u001b[39mGameSim\u001b[38;5;241m.\u001b[39mPhaseEnum\u001b[38;5;241m.\u001b[39mfree:\n\u001b[1;32m      5\u001b[0m     step \u001b[38;5;241m=\u001b[39m sim\u001b[38;5;241m.\u001b[39mcurrent_step()\n\u001b[0;32m----> 6\u001b[0m     feat \u001b[38;5;241m=\u001b[39m torch\u001b[38;5;241m.\u001b[39mfrom_numpy(\u001b[43mpolicy_net\u001b[49m\u001b[38;5;241;43m.\u001b[39;49m\u001b[43mcalc_action\u001b[49m\u001b[43m(\u001b[49m\u001b[43mstep\u001b[49m\u001b[43m)\u001b[49m)\u001b[38;5;241m.\u001b[39mto(torch\u001b[38;5;241m.\u001b[39mfloat32)\u001b[38;5;241m.\u001b[39mto(device)\n\u001b[1;32m      7\u001b[0m     action \u001b[38;5;241m=\u001b[39m select_action(feat)\n\u001b[1;32m      8\u001b[0m     sim\u001b[38;5;241m.\u001b[39msoft_put(pumila\u001b[38;5;241m.\u001b[39mactions[action])\n",
      "File \u001b[0;32m~/projects/pumila/pumila/pumila14.py:19\u001b[0m, in \u001b[0;36mNet14.calc_action\u001b[0;34m(self, state)\u001b[0m\n\u001b[1;32m     18\u001b[0m \u001b[38;5;28;01mdef\u001b[39;00m \u001b[38;5;21mcalc_action\u001b[39m(\u001b[38;5;28mself\u001b[39m, state: StepResult) \u001b[38;5;241m-\u001b[39m\u001b[38;5;241m>\u001b[39m np\u001b[38;5;241m.\u001b[39mndarray:\n\u001b[0;32m---> 19\u001b[0m     \u001b[38;5;28;01mreturn\u001b[39;00m np\u001b[38;5;241m.\u001b[39marray(\u001b[43mPumila14\u001b[49m\u001b[38;5;241;43m.\u001b[39;49m\u001b[43mcalc_action\u001b[49m\u001b[43m(\u001b[49m\u001b[43mstate\u001b[49m\u001b[43m)\u001b[49m, copy\u001b[38;5;241m=\u001b[39m\u001b[38;5;28;01mFalse\u001b[39;00m)\n",
      "\u001b[0;31mIndexError\u001b[0m: array::at"
     ]
    }
   ],
   "source": [
    "import time\n",
    "while True:\n",
    "    time.sleep(0.016)\n",
    "    if sim.phase_get() == pumila.GameSim.PhaseEnum.free:\n",
    "        step = sim.current_step()\n",
    "        feat = torch.from_numpy(policy_net.calc_action(step)).to(torch.float32).to(device)\n",
    "        action = select_action(feat)\n",
    "        sim.soft_put(pumila.actions[action])\n",
    "    sim.step()\n",
    "    win.step()"
   ]
  },
  {
   "cell_type": "code",
   "execution_count": 16,
   "id": "01fc460f-0cfd-4b9c-9d33-2aa63cad9d4e",
   "metadata": {},
   "outputs": [
    {
     "ename": "AttributeError",
     "evalue": "'pypumila.GameSim' object has no attribute 'reset'",
     "output_type": "error",
     "traceback": [
      "\u001b[0;31m---------------------------------------------------------------------------\u001b[0m",
      "\u001b[0;31mAttributeError\u001b[0m                            Traceback (most recent call last)",
      "Cell \u001b[0;32mIn[16], line 1\u001b[0m\n\u001b[0;32m----> 1\u001b[0m \u001b[43msim\u001b[49m\u001b[38;5;241;43m.\u001b[39;49m\u001b[43mreset\u001b[49m()\n",
      "\u001b[0;31mAttributeError\u001b[0m: 'pypumila.GameSim' object has no attribute 'reset'"
     ]
    }
   ],
   "source": [
    "sim.reset()"
   ]
  }
 ],
 "metadata": {
  "kernelspec": {
   "display_name": "Python 3 (ipykernel)",
   "language": "python",
   "name": "python3"
  },
  "language_info": {
   "codemirror_mode": {
    "name": "ipython",
    "version": 3
   },
   "file_extension": ".py",
   "mimetype": "text/x-python",
   "name": "python",
   "nbconvert_exporter": "python",
   "pygments_lexer": "ipython3",
   "version": "3.12.3"
  }
 },
 "nbformat": 4,
 "nbformat_minor": 5
}
