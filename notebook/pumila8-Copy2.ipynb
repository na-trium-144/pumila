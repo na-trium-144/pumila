{
 "cells": [
  {
   "cell_type": "code",
   "execution_count": null,
   "id": "017182b3-37f8-4d7d-b32a-dcd00dee6836",
   "metadata": {},
   "outputs": [],
   "source": [
    "import sys\n",
    "import os\n",
    "build_path = os.path.join(os.getcwd(), \"..\", \"build\")\n",
    "!cmake -B {build_path} -DPYTHON_EXECUTABLE={sys.executable} -Wno-dev -DCMAKE_BUILD_TYPE=Release ..\n",
    "!cmake --build {build_path}\n",
    "if build_path not in sys.path:\n",
    "    sys.path.append(build_path)\n",
    "import pypumila\n",
    "# to reload pypumila, restart python kernel.\n",
    "# importlib.reload(pypumila) <- does not work"
   ]
  },
  {
   "cell_type": "code",
   "execution_count": null,
   "id": "ed243954-8b00-4dea-ae36-5a25ac603487",
   "metadata": {},
   "outputs": [],
   "source": [
    "os.chdir(build_path)\n",
    "sim = pypumila.GameSim()"
   ]
  },
  {
   "cell_type": "code",
   "execution_count": null,
   "id": "7225fffd-c98f-4be0-b881-80544b896f97",
   "metadata": {},
   "outputs": [],
   "source": [
    "import numpy as np"
   ]
  },
  {
   "cell_type": "code",
   "execution_count": null,
   "id": "f2660f55-78ad-4b2e-b2f4-33d0ecb88038",
   "metadata": {},
   "outputs": [],
   "source": [
    "from tqdm.notebook import tqdm"
   ]
  },
  {
   "cell_type": "code",
   "execution_count": null,
   "id": "36103c40-7d4a-4870-8852-7e54f0e20eac",
   "metadata": {},
   "outputs": [],
   "source": [
    "import random"
   ]
  },
  {
   "cell_type": "code",
   "execution_count": null,
   "id": "a014bb88-2bdb-45f2-8f25-74f9caff8019",
   "metadata": {},
   "outputs": [],
   "source": [
    "models = []\n",
    "rewards = []\n",
    "scores = []"
   ]
  },
  {
   "cell_type": "code",
   "execution_count": null,
   "id": "7d8aa703-9cdd-4dfb-a1af-cb9e40bb8279",
   "metadata": {},
   "outputs": [],
   "source": [
    "# for i, hidden in enumerate(range(200, 1200, 200)):\n",
    "def learn(hidden):\n",
    "    print(f\"hidden = {int(hidden)}\")\n",
    "    model = pypumila.Pumila8.make_shared(int(hidden))\n",
    "    models.append(model)\n",
    "    it = 500\n",
    "    reward = []\n",
    "    score = []\n",
    "    ih = []\n",
    "    rewards.append(reward)\n",
    "    scores.append(score)\n",
    "    with tqdm(total=it) as pbar:\n",
    "        while pbar.n < it:\n",
    "            sim = pypumila.GameSim()\n",
    "            rnd_p = random.random()\n",
    "            # print(rnd_p)\n",
    "            for e in range(50):\n",
    "                sim.step()\n",
    "                pbar.update()\n",
    "                field = sim.field_copy()\n",
    "                reward.append(model.calc_reward(field))\n",
    "                a = model.get_action_rnd(field, rnd_p)\n",
    "                model.learn_step(field)\n",
    "                # diff = model.mean_diff\n",
    "                sim.put(pypumila.actions[a])\n",
    "                while not sim.is_free_phase():\n",
    "                    sim.step()\n",
    "            score.append(sim.field_copy().total_score)\n",
    "            ih.append(model.main.get_matrix_ih())\n",
    "    # model.save_file(f\"pumila8_{hidden}\")\n",
    "    return ih"
   ]
  },
  {
   "cell_type": "code",
   "execution_count": null,
   "id": "ea54804d-5db7-4383-9f6c-a4d0cfba966c",
   "metadata": {
    "scrolled": true
   },
   "outputs": [],
   "source": [
    "ih2 = learn(200)"
   ]
  },
  {
   "cell_type": "code",
   "execution_count": null,
   "id": "f1ea7f09-9940-4133-b439-c576e5623d3f",
   "metadata": {
    "scrolled": true
   },
   "outputs": [],
   "source": [
    "ih4 = learn(400)"
   ]
  },
  {
   "cell_type": "code",
   "execution_count": null,
   "id": "12adbd58-cc15-4ada-8dbd-63631ccc6e68",
   "metadata": {
    "scrolled": true
   },
   "outputs": [],
   "source": [
    "ih6 = learn(600)"
   ]
  },
  {
   "cell_type": "code",
   "execution_count": null,
   "id": "704264b2-0bd0-49c0-82d0-d58941651ce0",
   "metadata": {},
   "outputs": [],
   "source": [
    "ih8 = learn(800)"
   ]
  }
 ],
 "metadata": {
  "kernelspec": {
   "display_name": "Python 3 (ipykernel)",
   "language": "python",
   "name": "python3"
  },
  "language_info": {
   "codemirror_mode": {
    "name": "ipython",
    "version": 3
   },
   "file_extension": ".py",
   "mimetype": "text/x-python",
   "name": "python",
   "nbconvert_exporter": "python",
   "pygments_lexer": "ipython3",
   "version": "3.11.7"
  }
 },
 "nbformat": 4,
 "nbformat_minor": 5
}
