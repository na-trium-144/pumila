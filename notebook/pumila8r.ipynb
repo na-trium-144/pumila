{
 "cells": [
  {
   "cell_type": "code",
   "execution_count": null,
   "id": "017182b3-37f8-4d7d-b32a-dcd00dee6836",
   "metadata": {},
   "outputs": [],
   "source": [
    "import sys\n",
    "import os\n",
    "build_path = os.path.join(os.getcwd(), \"..\", \"build\")\n",
    "!cmake -B {build_path} -DPYTHON_EXECUTABLE={sys.executable} -Wno-dev -DCMAKE_BUILD_TYPE=Release ..\n",
    "!cmake --build {build_path}\n",
    "if build_path not in sys.path:\n",
    "    sys.path.append(build_path)\n",
    "import pypumila\n",
    "# to reload pypumila, restart python kernel.\n",
    "# importlib.reload(pypumila) <- does not work"
   ]
  },
  {
   "cell_type": "code",
   "execution_count": 2,
   "id": "ed243954-8b00-4dea-ae36-5a25ac603487",
   "metadata": {},
   "outputs": [],
   "source": [
    "os.chdir(build_path)\n",
    "sim = pypumila.GameSim()"
   ]
  },
  {
   "cell_type": "code",
   "execution_count": 3,
   "id": "7225fffd-c98f-4be0-b881-80544b896f97",
   "metadata": {},
   "outputs": [],
   "source": [
    "import numpy as np"
   ]
  },
  {
   "cell_type": "code",
   "execution_count": 4,
   "id": "f2660f55-78ad-4b2e-b2f4-33d0ecb88038",
   "metadata": {},
   "outputs": [],
   "source": [
    "from tqdm.notebook import tqdm"
   ]
  },
  {
   "cell_type": "code",
   "execution_count": 5,
   "id": "36103c40-7d4a-4870-8852-7e54f0e20eac",
   "metadata": {},
   "outputs": [],
   "source": [
    "import random"
   ]
  },
  {
   "cell_type": "code",
   "execution_count": 6,
   "id": "7d8aa703-9cdd-4dfb-a1af-cb9e40bb8279",
   "metadata": {},
   "outputs": [],
   "source": [
    "# for i, hidden in enumerate(range(200, 1200, 200)):\n",
    "def learn(hidden, it = 100000):\n",
    "    print(f\"hidden = {int(hidden)}\")\n",
    "    model = pypumila.Pumila8r.make_shared(int(hidden))\n",
    "    reward = []\n",
    "    score = []\n",
    "    # ih = []\n",
    "    with tqdm(total=it) as pbar:\n",
    "        while pbar.n < it:\n",
    "            sim = pypumila.GameSim()\n",
    "            rnd_p = random.random()\n",
    "            # print(rnd_p)\n",
    "            for e in range(50):\n",
    "                sim.step()\n",
    "                pbar.update()\n",
    "                field = sim.field_copy()\n",
    "                reward.append(model.calc_reward(field))\n",
    "                a = model.get_action_rnd(field, rnd_p)\n",
    "                model.learn_step(field)\n",
    "                # diff = model.mean_diff\n",
    "                sim.put(pypumila.actions[a])\n",
    "                while not sim.is_free_phase():\n",
    "                    sim.step()\n",
    "            score.append(sim.field_copy().total_score)\n",
    "            # ih.append(model.main.get_matrix_ih())\n",
    "    model.save_file(f\"pumila8r_{hidden}\")\n",
    "    return [model, reward, score]"
   ]
  },
  {
   "cell_type": "code",
   "execution_count": 7,
   "id": "987640c5-f8bd-45b1-8fc4-da213537e578",
   "metadata": {},
   "outputs": [],
   "source": [
    "import matplotlib.pyplot as plt"
   ]
  },
  {
   "cell_type": "code",
   "execution_count": null,
   "id": "6b7e1902-c04b-4c12-9dad-7d2495168f42",
   "metadata": {},
   "outputs": [
    {
     "name": "stdout",
     "output_type": "stream",
     "text": [
      "hidden = 100\n"
     ]
    },
    {
     "data": {
      "application/vnd.jupyter.widget-view+json": {
       "model_id": "f37866a57d804254a0062426ea88ce79",
       "version_major": 2,
       "version_minor": 0
      },
      "text/plain": [
       "  0%|          | 0/100000 [00:00<?, ?it/s]"
      ]
     },
     "metadata": {},
     "output_type": "display_data"
    },
    {
     "name": "stdout",
     "output_type": "stream",
     "text": [
      "hidden = 316\n"
     ]
    },
    {
     "data": {
      "application/vnd.jupyter.widget-view+json": {
       "model_id": "639c6622077c48ab9cfe85b22d441d52",
       "version_major": 2,
       "version_minor": 0
      },
      "text/plain": [
       "  0%|          | 0/100000 [00:00<?, ?it/s]"
      ]
     },
     "metadata": {},
     "output_type": "display_data"
    },
    {
     "name": "stdout",
     "output_type": "stream",
     "text": [
      "hidden = 1000\n"
     ]
    },
    {
     "data": {
      "application/vnd.jupyter.widget-view+json": {
       "model_id": "0a427468b3004c568af42632db6ce0a7",
       "version_major": 2,
       "version_minor": 0
      },
      "text/plain": [
       "  0%|          | 0/100000 [00:00<?, ?it/s]"
      ]
     },
     "metadata": {},
     "output_type": "display_data"
    }
   ],
   "source": [
    "hidden = [int(h) for h in np.geomspace(100, 10000, 5)]\n",
    "models = []\n",
    "rewards = []\n",
    "scores = []\n",
    "for i in range(len(hidden)):\n",
    "    model, reward, score = learn(hidden[i])\n",
    "    models.append(model)\n",
    "    rewards.append(reward)\n",
    "    scores.append(score)"
   ]
  },
  {
   "cell_type": "code",
   "execution_count": null,
   "id": "5b47d9d7-e1da-4e90-ab95-0a075279d27e",
   "metadata": {},
   "outputs": [],
   "source": [
    "plt.plot(np.array(rewards).T, label=hidden)"
   ]
  },
  {
   "cell_type": "code",
   "execution_count": null,
   "id": "2d7689dd-34a4-4c04-9665-d7aff042639f",
   "metadata": {},
   "outputs": [],
   "source": [
    "ar = np.array(rewards)\n",
    "plt.plot(\n",
    "    np.array([[np.average(ar[j, i:i+100]) for i in range(len(rewards[j])-100)] for j in range(len(rewards))]).T,\n",
    "    label=hidden\n",
    ")\n",
    "plt.legend()"
   ]
  },
  {
   "cell_type": "code",
   "execution_count": null,
   "id": "fae42b22-768a-4e55-bee0-012e2c88e0a4",
   "metadata": {},
   "outputs": [],
   "source": [
    "ar = np.array(rewards)\n",
    "plt.plot(\n",
    "    np.array([[np.average(ar[j, i:i+1000]) for i in range(len(rewards[j])-1000)] for j in range(len(rewards))]).T,\n",
    "    label=hidden\n",
    ")\n",
    "plt.legend()"
   ]
  },
  {
   "cell_type": "code",
   "execution_count": null,
   "id": "536851f0-c5b7-4be4-b268-3c1454f7d228",
   "metadata": {},
   "outputs": [],
   "source": [
    "plt.plot(np.array(scores).T, label=hidden)\n",
    "plt.legend()"
   ]
  },
  {
   "cell_type": "code",
   "execution_count": null,
   "id": "d169b995-5e27-4181-beb0-b6d6b9eb1142",
   "metadata": {},
   "outputs": [],
   "source": [
    "ar = np.array(scores)\n",
    "plt.plot(\n",
    "    np.array([[np.average(ar[j, i:i+100]) for i in range(len(scores[j])-100)] for j in range(len(scores))]).T,\n",
    "    label=hidden\n",
    ")\n",
    "plt.legend()"
   ]
  },
  {
   "cell_type": "code",
   "execution_count": null,
   "id": "6b1e36be-db48-4fce-be68-e7f651922ffc",
   "metadata": {},
   "outputs": [],
   "source": []
  }
 ],
 "metadata": {
  "kernelspec": {
   "display_name": "Python 3 (ipykernel)",
   "language": "python",
   "name": "python3"
  },
  "language_info": {
   "codemirror_mode": {
    "name": "ipython",
    "version": 3
   },
   "file_extension": ".py",
   "mimetype": "text/x-python",
   "name": "python",
   "nbconvert_exporter": "python",
   "pygments_lexer": "ipython3",
   "version": "3.11.7"
  }
 },
 "nbformat": 4,
 "nbformat_minor": 5
}
