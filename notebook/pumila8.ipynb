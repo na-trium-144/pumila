{
 "cells": [
  {
   "cell_type": "code",
   "execution_count": 1,
   "id": "017182b3-37f8-4d7d-b32a-dcd00dee6836",
   "metadata": {},
   "outputs": [
    {
     "name": "stdout",
     "output_type": "stream",
     "text": [
      "-- Eigen3 found\n",
      "-- sdl2 and SDL2_ttf found\n",
      "-- Accelerate found\n",
      "-- Fetching pybind11 source...\n",
      "-- pybind11 v2.11.1 \n",
      "-- Fetching BS::thread_pool source...\n",
      "-- Fetching cli11 source...\n",
      "-- Fetching roboto font...\n",
      "-- Configuring done (1.5s)\n",
      "-- Generating done (0.0s)\n",
      "-- Build files have been written to: /Users/kou/projects/pumila/build\n",
      "[ 57%] Built target pumila\n",
      "[ 92%] Built target pypumila\n",
      "[ 92%] Built target CLI11\n",
      "[100%] Built target pumila-sim\n"
     ]
    }
   ],
   "source": [
    "import sys\n",
    "import os\n",
    "build_path = os.path.join(os.getcwd(), \"..\", \"build\")\n",
    "!cmake -B {build_path} -DPYTHON_EXECUTABLE={sys.executable} -Wno-dev ..\n",
    "!cmake --build {build_path}\n",
    "if build_path not in sys.path:\n",
    "    sys.path.append(build_path)\n",
    "import pypumila\n",
    "# to reload pypumila, restart python kernel.\n",
    "# importlib.reload(pypumila) <- does not work"
   ]
  },
  {
   "cell_type": "code",
   "execution_count": 2,
   "id": "ed243954-8b00-4dea-ae36-5a25ac603487",
   "metadata": {},
   "outputs": [],
   "source": [
    "os.chdir(build_path)\n",
    "sim = pypumila.GameSim()"
   ]
  },
  {
   "cell_type": "code",
   "execution_count": 3,
   "id": "7225fffd-c98f-4be0-b881-80544b896f97",
   "metadata": {},
   "outputs": [],
   "source": [
    "import numpy as np"
   ]
  },
  {
   "cell_type": "code",
   "execution_count": 4,
   "id": "f2660f55-78ad-4b2e-b2f4-33d0ecb88038",
   "metadata": {},
   "outputs": [],
   "source": [
    "from tqdm.notebook import tqdm"
   ]
  },
  {
   "cell_type": "code",
   "execution_count": 5,
   "id": "36103c40-7d4a-4870-8852-7e54f0e20eac",
   "metadata": {},
   "outputs": [],
   "source": [
    "import random"
   ]
  },
  {
   "cell_type": "code",
   "execution_count": 6,
   "id": "a014bb88-2bdb-45f2-8f25-74f9caff8019",
   "metadata": {},
   "outputs": [],
   "source": [
    "models = []\n",
    "models_first = []\n",
    "rewards = []\n",
    "scores = []"
   ]
  },
  {
   "cell_type": "code",
   "execution_count": null,
   "id": "7d8aa703-9cdd-4dfb-a1af-cb9e40bb8279",
   "metadata": {},
   "outputs": [
    {
     "name": "stdout",
     "output_type": "stream",
     "text": [
      "hidden = 200\n"
     ]
    },
    {
     "data": {
      "application/vnd.jupyter.widget-view+json": {
       "model_id": "2076bb96a0594970acac439c0d5b4503",
       "version_major": 2,
       "version_minor": 0
      },
      "text/plain": [
       "  0%|          | 0/100000 [00:00<?, ?it/s]"
      ]
     },
     "metadata": {},
     "output_type": "display_data"
    }
   ],
   "source": [
    "for i, hidden in enumerate(range(200, 1200, 200)):\n",
    "    print(f\"hidden = {int(hidden)}\")\n",
    "    models.append(pypumila.Pumila8.make_shared(int(hidden)))\n",
    "    models_first.append(models[i].copy())\n",
    "    it = 100000\n",
    "    rewards.append([])\n",
    "    scores.append([])\n",
    "    with tqdm(total=it) as pbar:\n",
    "        while pbar.n < it:\n",
    "            sim = pypumila.GameSim()\n",
    "            rnd_p = random.random()\n",
    "            # print(rnd_p)\n",
    "            for e in range(50):\n",
    "                sim.step()\n",
    "                pbar.update()\n",
    "                a = models[i].get_action_rnd(sim.field, rnd_p)\n",
    "                models[i].learn_step(sim.field)\n",
    "                # diff = model.mean_diff\n",
    "                sim.put(pypumila.actions[a])\n",
    "                while not sim.is_free_phase():\n",
    "                    sim.step()\n",
    "                reward = models[i].calc_reward(sim.field)\n",
    "                rewards[i].append(reward)\n",
    "                # diffs.append(diff)\n",
    "                # このdiffはだいぶ前の学習結果で使ったdiffなので参考にならない\n",
    "                #print(f\"a = {a}, reward = {reward}, chain = {sim.field.prev_chain_num}, diff = {diff}\")\n",
    "            # print(\"reset sim\")\n",
    "            scores[i].append(sim.field.total_score)\n",
    "    models[i].save_file(f\"pumila8_{i}\")"
   ]
  },
  {
   "cell_type": "code",
   "execution_count": null,
   "id": "6f85fdcc-9ab1-412d-ade5-713fba8e58cd",
   "metadata": {},
   "outputs": [],
   "source": [
    "# del models[-1]\n",
    "# del models_first[-1]\n",
    "# del rewards[-1]\n",
    "# del scores[-1]"
   ]
  },
  {
   "cell_type": "code",
   "execution_count": null,
   "id": "987640c5-f8bd-45b1-8fc4-da213537e578",
   "metadata": {},
   "outputs": [],
   "source": [
    "import matplotlib.pyplot as plt"
   ]
  },
  {
   "cell_type": "code",
   "execution_count": null,
   "id": "5b47d9d7-e1da-4e90-ab95-0a075279d27e",
   "metadata": {},
   "outputs": [],
   "source": [
    "plt.plot(np.array(rewards).T, label=[str(int(h)) for h in np.geomspace(1, 1000, 7)])"
   ]
  },
  {
   "cell_type": "code",
   "execution_count": null,
   "id": "2d7689dd-34a4-4c04-9665-d7aff042639f",
   "metadata": {},
   "outputs": [],
   "source": [
    "ar = np.array(rewards)\n",
    "plt.plot(\n",
    "    np.array([[np.average(ar[j, i:i+100]) for i in range(len(rewards[j])-100)] for j in range(7)]).T,\n",
    "    label=[str(int(h)) for h in np.geomspace(1, 1000, 7)]\n",
    ")\n",
    "plt.legend()"
   ]
  },
  {
   "cell_type": "code",
   "execution_count": null,
   "id": "fae42b22-768a-4e55-bee0-012e2c88e0a4",
   "metadata": {},
   "outputs": [],
   "source": [
    "ar = np.array(rewards)\n",
    "plt.plot(\n",
    "    np.array([[np.average(ar[j, i:i+1000]) for i in range(len(rewards[j])-1000)] for j in range(7)]).T,\n",
    "    label=[str(int(h)) for h in np.geomspace(1, 1000, 7)]\n",
    ")\n",
    "plt.legend()"
   ]
  },
  {
   "cell_type": "code",
   "execution_count": null,
   "id": "536851f0-c5b7-4be4-b268-3c1454f7d228",
   "metadata": {},
   "outputs": [],
   "source": [
    "plt.plot(np.array(scores).T, label=[str(int(h)) for h in np.geomspace(1, 1000, 7)])\n",
    "plt.legend()"
   ]
  },
  {
   "cell_type": "code",
   "execution_count": null,
   "id": "d169b995-5e27-4181-beb0-b6d6b9eb1142",
   "metadata": {},
   "outputs": [],
   "source": [
    "ar = np.array(scores)\n",
    "plt.plot(\n",
    "    np.array([[np.average(ar[j, i:i+100]) for i in range(len(scores[j])-100)] for j in range(7)]).T,\n",
    "    label=[str(int(h)) for h in np.geomspace(1, 1000, 7)]\n",
    ")\n",
    "plt.legend()"
   ]
  },
  {
   "cell_type": "code",
   "execution_count": null,
   "id": "062574c2-3024-4b99-b996-a5978b8103d5",
   "metadata": {},
   "outputs": [],
   "source": [
    "models = []\n",
    "for i in range(7):\n",
    "    models.append(pypumila.Pumila7.make_shared(1))\n",
    "    models[i].load_file(f\"pumila7_{i}\")"
   ]
  },
  {
   "cell_type": "code",
   "execution_count": null,
   "id": "e7cac282-6462-4a95-9a08-d1ec2e57a227",
   "metadata": {},
   "outputs": [],
   "source": [
    "sim = pypumila.GameSim()\n",
    "win = pypumila.Window(sim)\n",
    "win.step(False)"
   ]
  },
  {
   "cell_type": "code",
   "execution_count": null,
   "id": "325d6532-0639-45ff-b273-641aae2aa901",
   "metadata": {},
   "outputs": [],
   "source": [
    "while True:\n",
    "    a = models[2].get_action(sim)\n",
    "    sim.put(pypumila.actions[a])\n",
    "    # sim.soft_put(pypumila.actions[a])\n",
    "    while sim.is_free_phase():\n",
    "        win.step(True)\n",
    "    while not sim.is_free_phase():\n",
    "        win.step(True)\n",
    "    # for i in range(15):\n",
    "    #     win.step(True)"
   ]
  },
  {
   "cell_type": "code",
   "execution_count": null,
   "id": "b7b760ef-998e-41a1-8d68-745553e0ebfe",
   "metadata": {},
   "outputs": [],
   "source": [
    "win.quit()"
   ]
  },
  {
   "cell_type": "code",
   "execution_count": null,
   "id": "b959a6b1-a285-4eed-9e86-42755c7d7e1b",
   "metadata": {},
   "outputs": [],
   "source": [
    "sim = pypumila.GameSim()\n",
    "win = pypumila.Window(sim)\n",
    "prev_r = 0\n",
    "while True:\n",
    "    r = pypumila.Pumila7.calc_reward(sim.field)\n",
    "    if r != prev_r:\n",
    "        print(r)\n",
    "    prev_r = r\n",
    "    win.step(True)"
   ]
  }
 ],
 "metadata": {
  "kernelspec": {
   "display_name": "Python 3 (ipykernel)",
   "language": "python",
   "name": "python3"
  },
  "language_info": {
   "codemirror_mode": {
    "name": "ipython",
    "version": 3
   },
   "file_extension": ".py",
   "mimetype": "text/x-python",
   "name": "python",
   "nbconvert_exporter": "python",
   "pygments_lexer": "ipython3",
   "version": "3.11.7"
  }
 },
 "nbformat": 4,
 "nbformat_minor": 5
}
